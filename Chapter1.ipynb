{
 "cells": [
  {
   "cell_type": "markdown",
   "id": "53de4735",
   "metadata": {},
   "source": [
    "# 🐍 Welcome to the Python Workshop!\n",
    "\n",
    "This workshop is designed for anyone new to Python or programming.  \n",
    "Whether you’re starting completely from scratch or just have a little experience, we’ll guide you through the basics and then move on to powerful tools like **pandas** and **NumPy**.\n",
    "\n",
    "---\n",
    "\n",
    "### ✅ How to Use This Workshop\n",
    "- Completed at your own pace.  \n",
    "- Run the code cells as you learn! Experimenting is the best way to understand Python.\n",
    "- Try out the examples as you go—these skills will be especially useful when we start solving real-world problems in our projects.\n",
    "\n",
    "### 📝 Submitting Your Work (GitHub Classroom Autograder)\n",
    "- Practice and test your code in this notebook as much as you like.  \n",
    "- For grading, you must:  \n",
    "  1. Put your final solutions into the required **`.py` file(s)** in your GitHub Classroom repository.  \n",
    "  2. Follow the naming conventions and function signatures exactly as instructed.  \n",
    "  3. Commit and push your changes to GitHub.  \n",
    "  4. The **autograder will run automatically** on your pushed code and report back your score.  \n",
    "\n",
    "⚠️ Important: Only `.py` files are graded — code left in the notebook will not be seen by the autograder.  \n",
    "\n",
    "---\n",
    "\n",
    "## 📖 Topics We’ll Cover\n",
    "- **What is Python?**  \n",
    "- **Variables**  \n",
    "- **Operators**  \n",
    "\n",
    "---"
   ]
  },
  {
   "cell_type": "markdown",
   "id": "ca4e3e71",
   "metadata": {},
   "source": [
    "## 1️⃣ What is Python?\n",
    "\n",
    "Python is a **high-level, interpreted programming language** that emphasizes simplicity and readability.  \n",
    "\n",
    "Why is Python so popular?  \n",
    "- Easy to read and write (almost like English).  \n",
    "- Great for beginners and professionals alike.  \n",
    "- Widely used in data science, web development, automation, AI, and more.  \n",
    "- Has a huge community and tons of libraries that make tasks easier.  \n",
    "\n",
    "Think of Python as a tool: just like a calculator helps you with math, Python helps you tell a computer *exactly what to do*.\n"
   ]
  },
  {
   "cell_type": "code",
   "execution_count": 2,
   "id": "890d2c9a",
   "metadata": {},
   "outputs": [
    {
     "name": "stdout",
     "output_type": "stream",
     "text": [
      "Hello, World!\n"
     ]
    }
   ],
   "source": [
    "# Let's print our first line of Python code. \n",
    "# If you are using an IDE, click on the arrow on the left to run the code.\n",
    "print(\"Hello, World!\")"
   ]
  },
  {
   "cell_type": "markdown",
   "id": "4b9d7615",
   "metadata": {},
   "source": [
    "➡️ This simple line of code does two important things:\n",
    "1. Uses Python’s built-in `print()` function.  \n",
    "2. Displays text on the screen.  \n",
    "\n",
    "Almost every program you write will involve giving instructions like this.\n"
   ]
  },
  {
   "cell_type": "code",
   "execution_count": null,
   "id": "348c697b",
   "metadata": {},
   "outputs": [],
   "source": [
    "# Printing text (a string)\n",
    "print(\"Hello, SMUR!\")\n",
    "\n",
    "# Printing numbers\n",
    "print(42)\n",
    "\n",
    "# Printing the result of a calculation\n",
    "print(3 + 5)"
   ]
  },
  {
   "cell_type": "markdown",
   "id": "1064c692",
   "metadata": {},
   "source": [
    "**Exercise 1:**  \n",
    "Write a program that prints **two lines**:  \n",
    "1. A greeting message like *\"Hello, Python learner!\"*  \n",
    "2. Your favorite hobby or food.  \n"
   ]
  },
  {
   "cell_type": "code",
   "execution_count": null,
   "id": "3ba80918",
   "metadata": {},
   "outputs": [],
   "source": [
    "# Starter Code\n",
    "print(\"Replace this line with your code. Make sure to keep the quotation marks!\")"
   ]
  },
  {
   "cell_type": "markdown",
   "id": "c875ba42",
   "metadata": {},
   "source": [
    "## 2️⃣ Variables\n",
    "\n",
    "A **variable** is like a container or a labeled box where you can store information. Recall the variables we use in math. Whenever we let x equal to some number, x is really just a box that stores that number that can be used later in the problem.\n",
    "\n",
    "In Python:\n",
    "- You create a variable by **assigning a value** with `=`.\n",
    "- Variables can change (they're called *variables* for a reason).\n"
   ]
  },
  {
   "cell_type": "code",
   "execution_count": null,
   "id": "b64c6fae",
   "metadata": {},
   "outputs": [],
   "source": [
    "# Example: Creating variables\n",
    "name = \"Alice\"     # storing text (string)\n",
    "age = 25           # storing a number (integer)\n",
    "height = 5.7       # storing a decimal number (float)\n",
    "\n",
    "# Printing variables directly\n",
    "print(name)\n",
    "print(age)\n",
    "\n",
    "# Printing with text\n",
    "print(\"Name:\", name)\n",
    "print(\"Age:\", age)\n",
    "print(\"Height:\", height)\n"
   ]
  },
  {
   "cell_type": "markdown",
   "id": "39344faf",
   "metadata": {},
   "source": [
    "### 🔄 Updating Variables\n",
    "\n",
    "Once a variable has been created, you can change its value later in the program.  \n",
    "\n",
    "For example, a game might keep track of a player's score.  \n",
    "At the start, the score is `0`, but as the player earns points, the score variable is updated.  \n",
    "\n",
    "In Python, you update a variable by assigning it a **new value**, often based on its old value.\n"
   ]
  },
  {
   "cell_type": "code",
   "execution_count": null,
   "id": "6f9d9b4e",
   "metadata": {},
   "outputs": [],
   "source": [
    "# Updating a variable\n",
    "score = 10\n",
    "print(\"Initial score:\", score)\n",
    "\n",
    "score = score + 5  # increase by 5\n",
    "print(\"Updated score:\", score)"
   ]
  },
  {
   "cell_type": "code",
   "execution_count": null,
   "id": "47f7b039",
   "metadata": {},
   "outputs": [],
   "source": [
    "# print() can display multiple things separated by commas\n",
    "x = 10\n",
    "y = 20\n",
    "print(\"x is\", x, \"and y is\", y)\n",
    "\n",
    "# Notice: commas automatically add a space between items\n"
   ]
  },
  {
   "cell_type": "code",
   "execution_count": null,
   "id": "c40fa8f5",
   "metadata": {},
   "outputs": [],
   "source": [
    "# sep = separator (what goes between items)\n",
    "print(\"apple\", \"banana\", \"cherry\", sep=\" | \")\n",
    "\n",
    "# end = what happens at the end of the line (default is newline)\n",
    "print(\"Hello\", end=\" \")\n",
    "print(\"World!\")\n"
   ]
  },
  {
   "cell_type": "markdown",
   "id": "de4ff780",
   "metadata": {},
   "source": [
    "### ✨ Printing with f-strings\n",
    "\n",
    "While `print()` with commas works, Python also gives us a cleaner way to mix variables and text:  \n",
    "**f-strings** (formatted string literals).  \n",
    "\n",
    "- Start the string with `f\" ... \"`  \n",
    "- Place variables inside `{curly_braces}`  \n",
    "- Python will automatically replace them with their values  \n",
    "\n",
    "This makes your code easier to read and write, especially when combining multiple variables into one sentence.\n"
   ]
  },
  {
   "cell_type": "code",
   "execution_count": null,
   "id": "797025a2",
   "metadata": {},
   "outputs": [],
   "source": [
    "# f-strings let you format text in a clean way\n",
    "name = \"Alice\"\n",
    "score = 95\n",
    "print(f\"{name} scored {score} points.\")\n"
   ]
  },
  {
   "cell_type": "code",
   "execution_count": null,
   "id": "a0dc3852",
   "metadata": {},
   "outputs": [],
   "source": [
    "# Let's create a variable to store your a color and print it out.\n",
    "favorite_color = \"blue\""
   ]
  },
  {
   "cell_type": "code",
   "execution_count": null,
   "id": "641524e2",
   "metadata": {},
   "outputs": [],
   "source": [
    "# Notice how favorite_color was defined in the previous cell but can still be used here.\n",
    "# In Jupyter (and other interactive Python environments), once you define a variable,\n",
    "# it stays in memory until you restart the kernel or overwrite it.\n",
    "# This persistence is because the interpreter keeps running in the background.\n",
    "print(\"My favorite color is:\", favorite_color)\n"
   ]
  },
  {
   "cell_type": "markdown",
   "id": "67f2bbe7",
   "metadata": {},
   "source": [
    "**Exercise 2:**  \n",
    "1. Create three variables: `my_name`, `my_age`, and `my_city`.  \n",
    "2. Assign them appropriate values.  \n",
    "3. Print a sentence using all three, for example:  \n",
    "   `\"Hi, my name is John. I am 20 years old and I live in Atlanta.\"`  \n"
   ]
  },
  {
   "cell_type": "code",
   "execution_count": null,
   "id": "da9369a4",
   "metadata": {},
   "outputs": [],
   "source": [
    "# Type out your own code below to experiment with variables and printing!"
   ]
  },
  {
   "cell_type": "markdown",
   "id": "243f2e9e",
   "metadata": {},
   "source": [
    "## 3️⃣ Operators\n",
    "\n",
    "Operators are **symbols** that let you perform actions on variables and values.  \n",
    "\n",
    "Types of operators we’ll explore:\n",
    "1. **Arithmetic Operators** → do math.  \n",
    "2. **Comparison Operators** → compare values (True/False).  \n",
    "3. **Assignment Operators** → update variables.  \n"
   ]
  },
  {
   "cell_type": "markdown",
   "id": "2e109600",
   "metadata": {},
   "source": [
    "### 🔢 Arithmetic Operators in Action\n",
    "\n",
    "The rules of arithmetic in Python follow the same order of operations you learned in math (PEMDAS):\n",
    "1. **Parentheses**  \n",
    "2. **Exponents**  \n",
    "3. **Multiplication / Division** (from left to right)  \n",
    "4. **Addition / Subtraction** (from left to right)  \n",
    "\n",
    "In the examples above, you saw how Python respects this order.  \n",
    "\n",
    "#Note: Multiplication and Division are at the same level, so are Addition and Subtraction.We evaluate from left to right when at the same level.\n",
    "\n",
    "Now, let’s look at each **arithmetic operator** one by one, and see how they work with variables.\n"
   ]
  },
  {
   "cell_type": "code",
   "execution_count": null,
   "id": "c4cdee17",
   "metadata": {},
   "outputs": [],
   "source": [
    "# Arithmetic examples\n",
    "a = 10\n",
    "b = 3\n",
    "\n",
    "print(\"Addition:\", a + b)       # 13\n",
    "print(\"Subtraction:\", a - b)    # 7\n",
    "print(\"Multiplication:\", a * b) # 30\n",
    "print(\"Division:\", a / b)       # 3.333...\n",
    "print(\"Floor Division:\", a // b)# 3\n",
    "print(\"Modulus:\", a % b)        # 1\n",
    "print(\"Exponent:\", a ** b)      # 1000"
   ]
  },
  {
   "cell_type": "code",
   "execution_count": null,
   "id": "3060a0fc",
   "metadata": {},
   "outputs": [],
   "source": [
    "print(3 + 4 * 2) #11\n",
    "print((3 + 4) * 2) #14\n",
    "print(7 - 3 + 2) #6\n",
    "print(7 - (3 + 2)) #2\n",
    "print(2 ** 3) #8\n",
    "print(16 / 4 / 2) #2.0\n",
    "print(16 / (4 / 2)) #8.0"
   ]
  },
  {
   "cell_type": "markdown",
   "id": "a441dbad",
   "metadata": {},
   "source": [
    "### ⚖️ Comparison Operators in Action\n",
    "\n",
    "Comparison operators are used to **compare two values**.  \n",
    "The result of a comparison is always either `True` or `False`.\n",
    "\n",
    "Here are the main comparison operators in Python:\n",
    "\n",
    "1. `==` → Equal to  \n",
    "2. `!=` → Not equal to  \n",
    "3. `>` → Greater than  \n",
    "4. `<` → Less than  \n",
    "5. `>=` → Greater than or equal to  \n",
    "6. `<=` → Less than or equal to  \n",
    "\n",
    "---\n",
    "\n",
    "#### 🔍 Why are comparison operators useful?\n",
    "They allow us to check conditions in our code.  \n",
    "For example, we can ask:  \n",
    "- Is the user old enough to vote?  \n",
    "- Did the player score more than 100 points?  \n",
    "- Is one number bigger than another?  \n",
    "\n",
    "These comparisons will be especially important when we learn about **if statements** and decision making in Python.\n"
   ]
  },
  {
   "cell_type": "code",
   "execution_count": null,
   "id": "863b251f",
   "metadata": {},
   "outputs": [],
   "source": [
    "# Comparison examples\n",
    "x = 5\n",
    "y = 8\n",
    "\n",
    "print(\"Is x equal to y?\", x == y)\n",
    "print(\"Is x not equal to y?\", x != y)\n",
    "print(\"Is x less than y?\", x < y)\n",
    "print(\"Is x greater than or equal to y?\", x >= y)\n"
   ]
  },
  {
   "cell_type": "code",
   "execution_count": null,
   "id": "511e9003",
   "metadata": {},
   "outputs": [],
   "source": [
    "# It's important to know the difference between = and ==\n",
    "x = 10      # = is for assignment\n",
    "print(x == 10)  # == is for comparison (checks if x equals 10)"
   ]
  },
  {
   "cell_type": "markdown",
   "id": "f8034958",
   "metadata": {},
   "source": [
    "### 📝 Assignment Operators in Action\n",
    "\n",
    "Assignment operators are used to **store and update values in variables**.  \n",
    "\n",
    "Main Assignment Operators in Python\n",
    "\n",
    "1. `=` → Assign a value  \n",
    "2. `+=` → Add and assign  \n",
    "3. `-=` → Subtract and assign  \n",
    "4. `*=` → Multiply and assign  \n",
    "5. `/=` → Divide and assign  \n",
    "6. `//=` → Floor divide and assign  \n",
    "7. `%=` → Modulus and assign  \n",
    "8. `**=` → Exponent and assign  \n",
    "\n"
   ]
  },
  {
   "cell_type": "code",
   "execution_count": null,
   "id": "f03faf67",
   "metadata": {},
   "outputs": [],
   "source": [
    "# Assignment examples\n",
    "number = 10\n",
    "print(\"Start:\", number)\n",
    "\n",
    "number += 5   # same as: number = number + 5\n",
    "print(\"After += 5:\", number)\n",
    "\n",
    "number *= 2   # same as: number = number * 2\n",
    "print(\"After *= 2:\", number)"
   ]
  },
  {
   "cell_type": "markdown",
   "id": "181ce2ff",
   "metadata": {},
   "source": [
    "**Exercise 3:**  \n",
    "1. Create two variables: `num1` and `num2`, and assign them any numbers you like.  \n",
    "2. Print the results of:  \n",
    "   - Addition  \n",
    "   - Subtraction  \n",
    "   - Multiplication  \n",
    "   - Division  \n",
    "3. Compare the two numbers using at least two **comparison operators** (e.g., `>`, `==`).  \n",
    "4. Update one of the numbers using an **assignment operator** (e.g., `+=`, `*=`) and print the result.  \n"
   ]
  },
  {
   "cell_type": "code",
   "execution_count": null,
   "id": "97090a5d",
   "metadata": {},
   "outputs": [],
   "source": [
    "# Type out the code below and run it"
   ]
  },
  {
   "cell_type": "markdown",
   "id": "f3e31324",
   "metadata": {},
   "source": [
    "# 📘 Assignment 1 – Python Basics  \n",
    "\n",
    "---\n",
    "\n",
    "## 📌 Instructions\n",
    "1. Create a file called **`assignment1.py`** in your GitHub Classroom repository.  \n",
    "2. Complete the tasks below in order.  \n",
    "3. Make sure your code **runs without errors**.  \n",
    "4. Commit and push your `.py` file to GitHub.  \n",
    "5. The autograder will run automatically.  \n",
    "\n",
    "---\n",
    "\n",
    "### Task 1: Hello Python\n",
    "Write a program that prints the following three lines:\n",
    "\n",
    "Hello, VIP SMUR!\n",
    "I'm excited to learn python!\n",
    "This is my first assignment.\n",
    "\n",
    "---\n",
    "\n",
    "### Task 2: My Profile\n",
    "Create the following variables in your code:  \n",
    "- `my_name` → your name (string)  \n",
    "- `my_age` → your age (integer)  \n",
    "- `favorite_color` → your favorite color (string)  \n",
    "\n",
    "Then, use `print()` to display a sentence like:  \n",
    "Hi, my name is Alice. I am 20 years old and my favorite color is blue.\n",
    "\n",
    "---\n",
    "\n",
    "### Task 3: Simple Math\n",
    "1. Create two variables: `num1` and `num2`, and assign them any numbers you like.  \n",
    "2. Print the following results using arithmetic operators:  \n",
    "   - `num1 + num2`  \n",
    "   - `num1 - num2`  \n",
    "   - `num1 * num2`  \n",
    "   - `num1 / num2`  \n",
    "\n",
    "---\n",
    "\n",
    "### Task 4: Compare Numbers\n",
    "Using the same `num1` and `num2` from Task 3, print out the answers to these comparisons:  \n",
    "- Is `num1` greater than `num2`?  \n",
    "- Is `num1` equal to `num2`?  \n",
    "- Is `num1` not equal to `num2`?  \n",
    "\n",
    "The output should clearly say what is being checked, for example: \n",
    "\n",
    "Is num1 greater than num2? True \n",
    "\n",
    "\n",
    "---\n",
    "\n",
    "### Task 5: Update a Variable\n",
    "1. Create a variable called `score` and set it equal to 0.  \n",
    "2. Use assignment operators to:  \n",
    "   - Add 10 to `score`  \n",
    "   - Multiply `score` by 2  \n",
    "   - Subtract 5 from `score`  \n",
    "3. Print the final value of `score`.  \n",
    "\n",
    "---\n",
    "\n",
    "## ✅ Example Output (your values may differ)\n",
    "\n",
    "```python\n",
    "Hello, VIP SMUR!\n",
    "I'm excited to learn python!\n",
    "This is my first assignment.\n",
    "\n",
    "Hi, my name is Alice. I am 20 years old and my favorite color is blue.\n",
    "\n",
    "Addition: 15\n",
    "Subtraction: 5\n",
    "Multiplication: 50\n",
    "Division: 2.5\n",
    "\n",
    "Is num1 greater than num2? True\n",
    "Is num1 equal to num2? False\n",
    "Is num1 not equal to num2? True\n",
    "\n",
    "Final score: 15\n"
   ]
  }
 ],
 "metadata": {
  "kernelspec": {
   "display_name": "base",
   "language": "python",
   "name": "python3"
  },
  "language_info": {
   "codemirror_mode": {
    "name": "ipython",
    "version": 3
   },
   "file_extension": ".py",
   "mimetype": "text/x-python",
   "name": "python",
   "nbconvert_exporter": "python",
   "pygments_lexer": "ipython3",
   "version": "3.12.3"
  }
 },
 "nbformat": 4,
 "nbformat_minor": 5
}
